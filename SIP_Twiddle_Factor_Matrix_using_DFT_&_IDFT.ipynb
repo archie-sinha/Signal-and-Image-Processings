{
  "nbformat": 4,
  "nbformat_minor": 0,
  "metadata": {
    "colab": {
      "provenance": []
    },
    "kernelspec": {
      "name": "python3",
      "display_name": "Python 3"
    },
    "language_info": {
      "name": "python"
    }
  },
  "cells": [
    {
      "cell_type": "markdown",
      "source": [
        "# ARCHISHA SINHA"
      ],
      "metadata": {
        "id": "CSF467SewEq9"
      }
    },
    {
      "cell_type": "markdown",
      "source": [
        "##Obtain twiddle factor matrix"
      ],
      "metadata": {
        "id": "X0-vfUu51Nk-"
      }
    },
    {
      "cell_type": "code",
      "execution_count": 1,
      "metadata": {
        "id": "NwT4uvKiRGX0"
      },
      "outputs": [],
      "source": [
        "import numpy as np\n",
        "import pandas as pd\n",
        "import matplotlib.pyplot as plt"
      ]
    },
    {
      "cell_type": "markdown",
      "source": [
        "Discrete Fourier Transform"
      ],
      "metadata": {
        "id": "XL35RKNm5NoG"
      }
    },
    {
      "cell_type": "code",
      "source": [
        "import numpy as np\n",
        "import matplotlib.pyplot as plt"
      ],
      "metadata": {
        "id": "5xoq4Rtjuzei"
      },
      "execution_count": 2,
      "outputs": []
    },
    {
      "cell_type": "code",
      "source": [
        "def twiddle_matrix():\n",
        "  N=int(input(\"Enter value of N: \"))\n",
        "  twiddle_matrix1=np.zeros((N,N),dtype=complex)\n",
        "  for n in range(N):\n",
        "    for k in range(N):\n",
        "      x=int(round(np.cos(2 * np.pi * (k * n / N))))\n",
        "      y=int(round(-1*(np.sin(2 * np.pi * (k * n / N)))))\n",
        "      twiddle_matrix1[n,k]=complex(x,y)\n",
        "  return twiddle_matrix1"
      ],
      "metadata": {
        "id": "mcin6IQYKDi9"
      },
      "execution_count": 3,
      "outputs": []
    },
    {
      "cell_type": "code",
      "source": [
        "twiddle_matrix()"
      ],
      "metadata": {
        "id": "ZDV0daDVxc02",
        "colab": {
          "base_uri": "https://localhost:8080/"
        },
        "outputId": "93741074-b91b-42c2-b4c4-a738fd9ecafc"
      },
      "execution_count": 4,
      "outputs": [
        {
          "name": "stdout",
          "output_type": "stream",
          "text": [
            "Enter value of N: 8\n"
          ]
        },
        {
          "output_type": "execute_result",
          "data": {
            "text/plain": [
              "array([[ 1.+0.j,  1.+0.j,  1.+0.j,  1.+0.j,  1.+0.j,  1.+0.j,  1.+0.j,\n",
              "         1.+0.j],\n",
              "       [ 1.+0.j,  1.-1.j,  0.-1.j, -1.-1.j, -1.+0.j, -1.+1.j,  0.+1.j,\n",
              "         1.+1.j],\n",
              "       [ 1.+0.j,  0.-1.j, -1.+0.j,  0.+1.j,  1.+0.j,  0.-1.j, -1.+0.j,\n",
              "         0.+1.j],\n",
              "       [ 1.+0.j, -1.-1.j,  0.+1.j,  1.-1.j, -1.+0.j,  1.+1.j,  0.-1.j,\n",
              "        -1.+1.j],\n",
              "       [ 1.+0.j, -1.+0.j,  1.+0.j, -1.+0.j,  1.+0.j, -1.+0.j,  1.+0.j,\n",
              "        -1.+0.j],\n",
              "       [ 1.+0.j, -1.+1.j,  0.-1.j,  1.+1.j, -1.+0.j,  1.-1.j,  0.+1.j,\n",
              "        -1.-1.j],\n",
              "       [ 1.+0.j,  0.+1.j, -1.+0.j,  0.-1.j,  1.+0.j,  0.+1.j, -1.+0.j,\n",
              "         0.-1.j],\n",
              "       [ 1.+0.j,  1.+1.j,  0.+1.j, -1.+1.j, -1.+0.j, -1.-1.j,  0.-1.j,\n",
              "         1.-1.j]])"
            ]
          },
          "metadata": {},
          "execution_count": 4
        }
      ]
    },
    {
      "cell_type": "markdown",
      "source": [
        "Inverse Discrete Fourier Transform"
      ],
      "metadata": {
        "id": "z6gzbNqY5O-O"
      }
    },
    {
      "cell_type": "code",
      "source": [
        "def inv_twiddle_matrix():\n",
        "  N=int(input(\"Enter value of N: \"))\n",
        "  twiddle_matrix2=np.zeros((N,N),dtype=complex)\n",
        "  for n in range(N):\n",
        "    for k in range(N):\n",
        "      x=int(round(np.cos(2 * np.pi * (k * n / N))))\n",
        "      y=int(round((np.sin(2 * np.pi * (k * n / N)))))\n",
        "      twiddle_matrix2[n,k]=complex(x,y)/N\n",
        "  return twiddle_matrix2"
      ],
      "metadata": {
        "id": "7RLr06vfK19x"
      },
      "execution_count": 5,
      "outputs": []
    },
    {
      "cell_type": "code",
      "source": [
        "inv_twiddle_matrix()"
      ],
      "metadata": {
        "colab": {
          "base_uri": "https://localhost:8080/"
        },
        "id": "RNDocea3LS2f",
        "outputId": "467b410a-60a6-41bf-d901-a5f158ad05d0"
      },
      "execution_count": 6,
      "outputs": [
        {
          "name": "stdout",
          "output_type": "stream",
          "text": [
            "Enter value of N: 8\n"
          ]
        },
        {
          "output_type": "execute_result",
          "data": {
            "text/plain": [
              "array([[ 0.125+0.j   ,  0.125+0.j   ,  0.125+0.j   ,  0.125+0.j   ,\n",
              "         0.125+0.j   ,  0.125+0.j   ,  0.125+0.j   ,  0.125+0.j   ],\n",
              "       [ 0.125+0.j   ,  0.125+0.125j,  0.   +0.125j, -0.125+0.125j,\n",
              "        -0.125+0.j   , -0.125-0.125j,  0.   -0.125j,  0.125-0.125j],\n",
              "       [ 0.125+0.j   ,  0.   +0.125j, -0.125+0.j   ,  0.   -0.125j,\n",
              "         0.125+0.j   ,  0.   +0.125j, -0.125+0.j   ,  0.   -0.125j],\n",
              "       [ 0.125+0.j   , -0.125+0.125j,  0.   -0.125j,  0.125+0.125j,\n",
              "        -0.125+0.j   ,  0.125-0.125j,  0.   +0.125j, -0.125-0.125j],\n",
              "       [ 0.125+0.j   , -0.125+0.j   ,  0.125+0.j   , -0.125+0.j   ,\n",
              "         0.125+0.j   , -0.125+0.j   ,  0.125+0.j   , -0.125+0.j   ],\n",
              "       [ 0.125+0.j   , -0.125-0.125j,  0.   +0.125j,  0.125-0.125j,\n",
              "        -0.125+0.j   ,  0.125+0.125j,  0.   -0.125j, -0.125+0.125j],\n",
              "       [ 0.125+0.j   ,  0.   -0.125j, -0.125+0.j   ,  0.   +0.125j,\n",
              "         0.125+0.j   ,  0.   -0.125j, -0.125+0.j   ,  0.   +0.125j],\n",
              "       [ 0.125+0.j   ,  0.125-0.125j,  0.   -0.125j, -0.125-0.125j,\n",
              "        -0.125+0.j   , -0.125+0.125j,  0.   +0.125j,  0.125+0.125j]])"
            ]
          },
          "metadata": {},
          "execution_count": 6
        }
      ]
    },
    {
      "cell_type": "markdown",
      "source": [
        "##To find the DFT and IDFT of  [1,2,2,1] using twiddle factor matrix.  "
      ],
      "metadata": {
        "id": "YrdZ-RFL1WUt"
      }
    },
    {
      "cell_type": "markdown",
      "source": [
        "DFT"
      ],
      "metadata": {
        "id": "SMO9axRY5HqJ"
      }
    },
    {
      "cell_type": "code",
      "source": [
        "A=np.array([1,2,2,1],dtype=complex)"
      ],
      "metadata": {
        "id": "tPDJGDAq1wIt"
      },
      "execution_count": 7,
      "outputs": []
    },
    {
      "cell_type": "code",
      "source": [
        "print(A)"
      ],
      "metadata": {
        "colab": {
          "base_uri": "https://localhost:8080/"
        },
        "id": "3CmwIxuu2YyN",
        "outputId": "277ab09f-fecb-4f38-a605-633fdd57db7b"
      },
      "execution_count": 8,
      "outputs": [
        {
          "output_type": "stream",
          "name": "stdout",
          "text": [
            "[1.+0.j 2.+0.j 2.+0.j 1.+0.j]\n"
          ]
        }
      ]
    },
    {
      "cell_type": "code",
      "source": [
        "result=np.array([0, 0, 0, 0],dtype=complex)"
      ],
      "metadata": {
        "id": "l9W4pTW31s3X"
      },
      "execution_count": 9,
      "outputs": []
    },
    {
      "cell_type": "code",
      "source": [
        "twiddle_matrix=twiddle_matrix()"
      ],
      "metadata": {
        "colab": {
          "base_uri": "https://localhost:8080/"
        },
        "id": "FAPNpRiyLfql",
        "outputId": "5f976d7a-ea73-4fa4-fc1e-fa4924474021"
      },
      "execution_count": 10,
      "outputs": [
        {
          "name": "stdout",
          "output_type": "stream",
          "text": [
            "Enter value of N: 8\n"
          ]
        }
      ]
    },
    {
      "cell_type": "code",
      "source": [
        "for i in range(4):\n",
        "    for j in range(4):\n",
        "            result[i]+= (A[j] * twiddle_matrix[i][j])\n",
        "print(result)"
      ],
      "metadata": {
        "colab": {
          "base_uri": "https://localhost:8080/"
        },
        "id": "fzxt6x5q03Yf",
        "outputId": "79f74b60-222c-4da5-cfc7-ab6d024f0c19"
      },
      "execution_count": 11,
      "outputs": [
        {
          "output_type": "stream",
          "name": "stdout",
          "text": [
            "[ 6.+0.j  2.-5.j -1.-1.j  0.-1.j]\n"
          ]
        }
      ]
    },
    {
      "cell_type": "markdown",
      "source": [
        "To compare:"
      ],
      "metadata": {
        "id": "rnwg3pT2L8IV"
      }
    },
    {
      "cell_type": "code",
      "source": [
        "X=np.fft.fft2([A])"
      ],
      "metadata": {
        "id": "QyfCZSMJ23wJ"
      },
      "execution_count": 12,
      "outputs": []
    },
    {
      "cell_type": "code",
      "source": [
        "print(X)"
      ],
      "metadata": {
        "colab": {
          "base_uri": "https://localhost:8080/"
        },
        "id": "QRBv2TWX5zI_",
        "outputId": "83c68584-3e22-4a0b-c982-2919661b5df4"
      },
      "execution_count": 13,
      "outputs": [
        {
          "output_type": "stream",
          "name": "stdout",
          "text": [
            "[[ 6.+0.j -1.-1.j  0.+0.j -1.+1.j]]\n"
          ]
        }
      ]
    },
    {
      "cell_type": "markdown",
      "source": [
        "IDFT"
      ],
      "metadata": {
        "id": "ic_2RkKn5I_e"
      }
    },
    {
      "cell_type": "code",
      "source": [
        "result2 =np.array([0, 0, 0, 0],dtype=complex)"
      ],
      "metadata": {
        "id": "BhHAaRDP3r-b"
      },
      "execution_count": 14,
      "outputs": []
    },
    {
      "cell_type": "code",
      "source": [
        "twiddle_matrix_idft=inv_twiddle_matrix()"
      ],
      "metadata": {
        "colab": {
          "base_uri": "https://localhost:8080/"
        },
        "id": "YsSvHaFIMC6n",
        "outputId": "45c7d089-5550-4618-ba28-167936f7066b"
      },
      "execution_count": 15,
      "outputs": [
        {
          "name": "stdout",
          "output_type": "stream",
          "text": [
            "Enter value of N: 8\n"
          ]
        }
      ]
    },
    {
      "cell_type": "code",
      "source": [
        "B=X[0]"
      ],
      "metadata": {
        "id": "KEFf4JC07Jie"
      },
      "execution_count": 16,
      "outputs": []
    },
    {
      "cell_type": "code",
      "source": [
        "for i in range(4):\n",
        "    for j in range(4):\n",
        "            result2[i]+= (B[j] * twiddle_matrix_idft[i][j])\n",
        "print(result2)"
      ],
      "metadata": {
        "colab": {
          "base_uri": "https://localhost:8080/"
        },
        "id": "6hD-Z5wg55h_",
        "outputId": "c56735f2-2b5a-4e92-80f1-c4277af45e08"
      },
      "execution_count": 17,
      "outputs": [
        {
          "output_type": "stream",
          "name": "stdout",
          "text": [
            "[0.5 +0.j  0.75-0.5j 1.  +0.j  0.75+0.j ]\n"
          ]
        }
      ]
    },
    {
      "cell_type": "markdown",
      "source": [
        "To Compare:"
      ],
      "metadata": {
        "id": "6DCrOiUVMPa1"
      }
    },
    {
      "cell_type": "code",
      "source": [
        "np.fft.ifft2(X)"
      ],
      "metadata": {
        "colab": {
          "base_uri": "https://localhost:8080/"
        },
        "id": "hd3Uz5Pf7WfP",
        "outputId": "9407a6fe-34c8-48c8-d36a-a46a9cc4829f"
      },
      "execution_count": 18,
      "outputs": [
        {
          "output_type": "execute_result",
          "data": {
            "text/plain": [
              "array([[1.+0.j, 2.+0.j, 2.+0.j, 1.+0.j]])"
            ]
          },
          "metadata": {},
          "execution_count": 18
        }
      ]
    }
  ]
}